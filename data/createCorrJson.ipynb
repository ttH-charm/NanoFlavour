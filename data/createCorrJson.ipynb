{
 "cells": [
  {
   "cell_type": "code",
   "execution_count": 1,
   "metadata": {},
   "outputs": [],
   "source": [
    "import correctionlib\n",
    "import correctionlib.convert\n",
    "import uproot\n",
    "import hist\n"
   ]
  },
  {
   "cell_type": "code",
   "execution_count": 2,
   "metadata": {},
   "outputs": [],
   "source": [
    "inputdir = '/tmp/trigsf2l'"
   ]
  },
  {
   "cell_type": "code",
   "execution_count": 3,
   "metadata": {},
   "outputs": [],
   "source": [
    "era_dict = {2015: '2016preVFP_UL', 2016: '2016postVFP_UL', 2017: '2017_UL', 2018: '2018_UL'}\n",
    "\n",
    "name_dict = {\n",
    "    'MuMu': 'h_DoubleMu_OR__X__allMET_mu0_pt_vs_mu1_pt_withSysts',\n",
    "    'ElEl': 'h_DoubleEl_OR__X__allMET_el0_pt_vs_el1_pt_withSysts',\n",
    "    'MuEl': 'h_EMu_OR__X__allMET_mu0_pt_vs_el0_pt_withSysts',\n",
    "}\n"
   ]
  },
  {
   "cell_type": "code",
   "execution_count": 4,
   "metadata": {},
   "outputs": [],
   "source": [
    "for era in era_dict.values():\n",
    "    corrs = []\n",
    "    for name, histname in name_dict.items():\n",
    "        histpath = f'{inputdir}/{era}.root:{histname}'\n",
    "\n",
    "        h = uproot.open(histpath)\n",
    "        hn = hist.Hist(hist.axis.StrCategory(['central', 'up', 'down'], name='sf', label='sf type (central, up, down)'),\n",
    "                       *h.to_boost().axes, name=f'{name}TriggerSF', label=f'{name}TriggerSF')\n",
    "        hn['central', :, :] = h.values()\n",
    "        hn['up', :, :] = h.values() + h.errors()\n",
    "        hn['down', :, :] = h.values() - h.errors()\n",
    "\n",
    "        axis_names = ['Leading lepton pT', 'Sub-leading lepton pT']\n",
    "        if name == 'MuEl':\n",
    "            axis_names = ['Muon pT', 'Electron pT']\n",
    "        corr = correctionlib.convert.from_histogram(hn, ['sf'] + axis_names, flow='clamp')\n",
    "        corr.name = f'{name}TriggerSF'\n",
    "        corrs.append(corr)\n",
    "\n",
    "    cset = correctionlib.schemav2.CorrectionSet(schema_version=2, corrections=corrs)\n",
    "\n",
    "    with open(f\"{era}_DiLeptonTriggerSF.json\", \"w\") as fout:\n",
    "        fout.write(cset.json(exclude_unset=True))\n"
   ]
  },
  {
   "cell_type": "code",
   "execution_count": null,
   "metadata": {},
   "outputs": [],
   "source": []
  }
 ],
 "metadata": {
  "kernelspec": {
   "display_name": "base",
   "language": "python",
   "name": "python3"
  },
  "language_info": {
   "codemirror_mode": {
    "name": "ipython",
    "version": 3
   },
   "file_extension": ".py",
   "mimetype": "text/x-python",
   "name": "python",
   "nbconvert_exporter": "python",
   "pygments_lexer": "ipython3",
   "version": "3.9.7"
  },
  "orig_nbformat": 4
 },
 "nbformat": 4,
 "nbformat_minor": 2
}
